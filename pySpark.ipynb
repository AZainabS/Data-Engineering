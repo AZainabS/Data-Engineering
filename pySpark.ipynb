{
 "cells": [
  {
   "cell_type": "markdown",
   "id": "d0714c88",
   "metadata": {},
   "source": [
    "# PostgreSQL\n",
    "\n",
    "## Spark Tips. Optimizing JDBC data source reads:\n",
    "https://luminousmen.com/post/spark-tips-optimizing-jdbc-data-source-reads \n",
    "\n",
    "Нужно jar закинуть в ту же директорию в JH, в которой находится ноутбук, в котором запускается спарк \n",
    "\n",
    "В конфиги спарк сессии добавить:\n",
    "\n",
    "('spark.jars', 'postgresql-42.5.2.jar')"
   ]
  },
  {
   "cell_type": "code",
   "execution_count": null,
   "id": "dce2b6ff",
   "metadata": {},
   "outputs": [],
   "source": [
    "sdf= (\n",
    "    spark.read\n",
    "    .format(\"jdbc\")\n",
    "    .option(\"url\", f\"jdbc:postgresql://host:5432/db\")\n",
    "    .option(\"user\", f\"{LOGIN}\")\n",
    "    .option(\"password\", f'{PASSWORD}')\n",
    "    .option(\"driver\", \"org.postgresql.Driver\")\n",
    "    .option(\"dbschema\",\"db\")\n",
    "    .option(\"dbtable\", f\"(SELECT * FROM db.table LIMIT 10)\").load()\n",
    "    )"
   ]
  },
  {
   "cell_type": "code",
   "execution_count": null,
   "id": "a7a7efb3",
   "metadata": {},
   "outputs": [],
   "source": []
  }
 ],
 "metadata": {
  "kernelspec": {
   "display_name": "Python 3 (ipykernel)",
   "language": "python",
   "name": "python3"
  },
  "language_info": {
   "codemirror_mode": {
    "name": "ipython",
    "version": 3
   },
   "file_extension": ".py",
   "mimetype": "text/x-python",
   "name": "python",
   "nbconvert_exporter": "python",
   "pygments_lexer": "ipython3",
   "version": "3.9.13"
  }
 },
 "nbformat": 4,
 "nbformat_minor": 5
}
